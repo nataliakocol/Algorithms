{
 "cells": [
  {
   "cell_type": "code",
   "execution_count": 3,
   "id": "3a295c08-f59a-465c-ace7-06966f750b42",
   "metadata": {},
   "outputs": [
    {
     "name": "stdout",
     "output_type": "stream",
     "text": [
      "[17, 62, 28, 91, 86, 51, 17, 61, 37, 50]\n"
     ]
    }
   ],
   "source": [
    "import random\n",
    "a = [random.randint(0,100) for i in range (10)]\n",
    "s = len(a)\n",
    "print(a)"
   ]
  },
  {
   "cell_type": "code",
   "execution_count": null,
   "id": "bac744d4-f02b-4e8c-925a-9dc2564ceccd",
   "metadata": {},
   "outputs": [],
   "source": [
    "#selection sort\n",
    "for i in range(s):\n",
    "    m = i\n",
    "    for j in range(i, s):\n",
    "        if a[j] < a[m]:\n",
    "            m = j\n",
    "    a[i], a[m] = a[m], a[i]"
   ]
  },
  {
   "cell_type": "code",
   "execution_count": 36,
   "id": "92cc721d-2005-487e-8ae4-c964057c69e9",
   "metadata": {},
   "outputs": [],
   "source": [
    "#insertion sort\n",
    "for i in range(1, s):\n",
    "    cur = a[i]\n",
    "    j = i\n",
    "    while j > 0 and a[j - 1] > cur:\n",
    "        a[j] = a[j-1]\n",
    "        j -= 1\n",
    "    a[j] = cur"
   ]
  },
  {
   "cell_type": "code",
   "execution_count": 31,
   "id": "bef0b498-a07e-4749-a613-e13b0c6b0a42",
   "metadata": {},
   "outputs": [],
   "source": [
    "#merge step\n",
    "def merge(arr, aux, lo, mid, hi):\n",
    "    i = lo\n",
    "    j = mid + 1\n",
    "    for k in range(lo, hi+1):\n",
    "        if i > mid:\n",
    "            arr[k] = aux[j]\n",
    "            j += 1\n",
    "        elif j > hi:\n",
    "            arr[k] = aux[i] \n",
    "            i += 1\n",
    "        elif aux[i] < aux[j]:\n",
    "            arr[k] = aux[i]\n",
    "            i += 1\n",
    "        else:\n",
    "            arr[k] = aux[j]\n",
    "            j += 1\n",
    "            \n",
    "#merge sort\n",
    "def sort(arr, aux, lo, hi):\n",
    "    if hi <= lo:\n",
    "        return\n",
    "    mid = lo + ((hi - lo)//2)\n",
    "    sort(aux, arr, lo, mid)\n",
    "    sort(aux, arr, mid + 1, hi)\n",
    "    merge(arr, aux, lo, mid, hi)\n",
    "\n",
    "def merge_sort(arr):\n",
    "    print(arr)\n",
    "    aux = arr.copy()\n",
    "    sort(arr, aux, 0, len(arr) - 1)\n",
    "    print(arr)"
   ]
  },
  {
   "cell_type": "code",
   "execution_count": 32,
   "id": "7bc8b1f2-ddc8-4367-8b42-743a989245d1",
   "metadata": {},
   "outputs": [
    {
     "name": "stdout",
     "output_type": "stream",
     "text": [
      "[0, 0, 62, 86, 91, 0, 0, 50, 51, 61]\n",
      "[0, 0, 0, 0, 50, 51, 61, 62, 86, 91]\n"
     ]
    }
   ],
   "source": [
    "merge_sort(a)"
   ]
  },
  {
   "cell_type": "code",
   "execution_count": null,
   "id": "b9fd89ca-bc87-44a8-a284-3b3ba5e61b26",
   "metadata": {},
   "outputs": [],
   "source": [
    "#LAB exercises\n",
    "#ex1: anagrams\n",
    "\n",
    "#a)we can sort each word, then sort all of them -\n",
    "#  but that would be \n",
    "#  n * (len(each word)*log.len(each word)) + nlogn..\n",
    "#  O(n*nlogn) or more if we say each word has length n\n",
    "\n",
    "#b)prime factorization: \n",
    "#  assigning each letter a prime number, \n",
    "#  and then for each word we compute the \n",
    "#  product big modulo prime or sth; then it's \n",
    "#  n*(len(word)) -> O(n*n); \n",
    "#  and then we can sort them by their assigned hash so\n",
    "#  + nlogn -> O(n*n)\n",
    "\n",
    "#let's try b)"
   ]
  },
  {
   "cell_type": "code",
   "execution_count": 33,
   "id": "3635851a-d1d5-48e4-91bf-3cb8a608608f",
   "metadata": {},
   "outputs": [],
   "source": [
    "def letter_hash(word):\n",
    "    letter_code = {'a': 2, 'b': 3, 'c': 5, 'd': 7, 'e': 11, 'f': 13, 'g': 17, 'h': 19, 'i': 23, 'j': 29, 'k': 31,\n",
    "                   'l': 37, 'm': 41, 'n': 43, 'o': 47, 'p': 53, 'q': 59, 'r': 61, 's': 67, 't': 71, 'u': 73, 'v': 79,\n",
    "                   'w': 83, 'x': 89, 'y': 97, 'z': 101}\n",
    "    M = 10**9+7\n",
    "    s = 1\n",
    "    for c in word:\n",
    "        s *= letter_code[c]%M\n",
    "    return s\n",
    "\n",
    "def anagram(arr):\n",
    "    hash_arr = [(letter_hash(word), word) for word in arr]\n",
    "    merge_sort(hash_arr)\n",
    "    print(hash_arr)\n",
    "    k = 1\n",
    "    while k <= len(hash_arr):\n",
    "        print(\"[\", hash_arr[k - 1][1], sep='', end='')\n",
    "        while k < len(hash_arr) and hash_arr[k - 1][0] == hash_arr[k][0]:\n",
    "            print(\",\", hash_arr[k][1], end='')\n",
    "            k += 1\n",
    "        print(\"]\")\n",
    "        k += 1"
   ]
  },
  {
   "cell_type": "code",
   "execution_count": 34,
   "id": "c4d9fe4e-4c76-4c12-b487-028f5d504d30",
   "metadata": {},
   "outputs": [
    {
     "name": "stdout",
     "output_type": "stream",
     "text": [
      "[(1562, 'eat'), (1562, 'tea'), (459086, 'part'), (1562, 'ate'), (459086, 'trap'), (475834, 'pass')]\n",
      "[(1562, 'ate'), (1562, 'eat'), (1562, 'tea'), (459086, 'part'), (459086, 'trap'), (475834, 'pass')]\n",
      "[(1562, 'ate'), (1562, 'eat'), (1562, 'tea'), (459086, 'part'), (459086, 'trap'), (475834, 'pass')]\n",
      "[ate, eat, tea]\n",
      "[part, trap]\n",
      "[pass]\n"
     ]
    }
   ],
   "source": [
    "anagram([\"eat\", \"tea\", \"part\", \"ate\", \"trap\", \"pass\"])"
   ]
  },
  {
   "cell_type": "code",
   "execution_count": null,
   "id": "572aea7b-0ed1-4973-b252-547097014133",
   "metadata": {},
   "outputs": [],
   "source": []
  },
  {
   "cell_type": "code",
   "execution_count": null,
   "id": "3e028006-7dea-47a0-9dfc-d1e66870d41f",
   "metadata": {},
   "outputs": [],
   "source": []
  }
 ],
 "metadata": {
  "kernelspec": {
   "display_name": "Python 3 (ipykernel)",
   "language": "python",
   "name": "python3"
  },
  "language_info": {
   "codemirror_mode": {
    "name": "ipython",
    "version": 3
   },
   "file_extension": ".py",
   "mimetype": "text/x-python",
   "name": "python",
   "nbconvert_exporter": "python",
   "pygments_lexer": "ipython3",
   "version": "3.11.1"
  }
 },
 "nbformat": 4,
 "nbformat_minor": 5
}

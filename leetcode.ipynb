{
 "cells": [
  {
   "cell_type": "code",
   "execution_count": 24,
   "id": "616f6e61-84be-4dbb-a304-2aaebef0ddd7",
   "metadata": {},
   "outputs": [],
   "source": [
    "class Solution(object):\n",
    "    def twoSum(self, nums, target):\n",
    "        numsHash = {}\n",
    "        for i, num in enumerate(nums):\n",
    "            x = target - num\n",
    "            if x in numsHash:\n",
    "                return [numsHash[x], i]\n",
    "            numsHash[num] = i\n",
    "        return []   "
   ]
  },
  {
   "cell_type": "code",
   "execution_count": 23,
   "id": "b75c9bde-4854-41fa-a88c-b3f708546e03",
   "metadata": {},
   "outputs": [],
   "source": [
    "class Solution(object):\n",
    "    def lengthOfLongestSubstring(self, s):\n",
    "        occ = {}\n",
    "        if len(s) <= 1:\n",
    "            return len(s)\n",
    "        maxi = 1\n",
    "        occ[s[0]] = 0\n",
    "        i = 0\n",
    "        for j in range(1, len(s)):\n",
    "            if occ.get(s[j]) is not None:\n",
    "                i = max(i, occ[s[j]] + 1) \n",
    "            maxi = max(maxi, j-i + 1)\n",
    "            occ[s[j]] = j\n",
    "            \n",
    "        return maxi"
   ]
  },
  {
   "cell_type": "code",
   "execution_count": 25,
   "id": "9fa7ebe7-8760-4c79-8093-38c621b35551",
   "metadata": {},
   "outputs": [],
   "source": [
    "class Solution(object):\n",
    "    def addTwoNumbers(self, l1, l2):\n",
    "        carry = 0\n",
    "        sum = l1.val + l2.val\n",
    "        if sum >= 10:\n",
    "            carry = 1\n",
    "        result = ListNode(sum%10)\n",
    "        first = result\n",
    "        while l1.next and l2.next:\n",
    "            l1 = l1.next\n",
    "            l2 = l2.next\n",
    "            sum = l1.val + l2.val + carry\n",
    "            result.next = ListNode(sum%10)\n",
    "            result = result.next\n",
    "            if sum < 10:\n",
    "                carry = 0\n",
    "            else: \n",
    "                carry = 1\n",
    "        node = None\n",
    "        if l1.next is None and l2.next is None:\n",
    "            if carry == 1:\n",
    "                result.next = ListNode(carry)\n",
    "        else:\n",
    "            if l1.next is None:\n",
    "                node = l2.next\n",
    "            elif l2.next is None:\n",
    "                node = l1.next\n",
    "            while node:\n",
    "                sum = node.val + carry\n",
    "                result.next = ListNode(sum%10)\n",
    "                result = result.next\n",
    "                node = node.next\n",
    "                if sum < 10:\n",
    "                    carry = 0\n",
    "                else: \n",
    "                    carry = 1\n",
    "        if carry == 1:\n",
    "                result.next = ListNode(carry)\n",
    "        return first\n",
    "        "
   ]
  },
  {
   "cell_type": "code",
   "execution_count": 31,
   "id": "9662cd82-e64c-4325-aed4-08c6970e876d",
   "metadata": {},
   "outputs": [],
   "source": [
    "class Solution(object):\n",
    "    def removeDuplicates(self, nums):\n",
    "        i = 0\n",
    "        for j in range(1, len(nums)):\n",
    "            if nums[j] != nums[i]: \n",
    "                i += 1\n",
    "                nums[i] = nums[j]\n",
    "        return i + 1"
   ]
  },
  {
   "cell_type": "code",
   "execution_count": 33,
   "id": "93ebdd70-2ae6-4263-ab47-dc43781896e5",
   "metadata": {},
   "outputs": [],
   "source": [
    "class Solution(object):\n",
    "    def deleteNode(self, node):\n",
    "        next = node.next\n",
    "        node.val = next.val\n",
    "        node.next = next.next"
   ]
  },
  {
   "cell_type": "code",
   "execution_count": 34,
   "id": "dace742b-8895-449a-86ff-ca4e3dabfda9",
   "metadata": {},
   "outputs": [],
   "source": [
    "class Solution(object):\n",
    "    def climbStairs(self, n):\n",
    "        if n <= 2:\n",
    "            return n    \n",
    "        a = 1\n",
    "        b = 2\n",
    "        res = 0\n",
    "        for i in range(3, n + 1):\n",
    "            res = a + b\n",
    "            a = b\n",
    "            b = res\n",
    "        return res      "
   ]
  },
  {
   "cell_type": "code",
   "execution_count": 35,
   "id": "4e4c1a00-c546-49ec-96cc-c3c6b7fac3b5",
   "metadata": {},
   "outputs": [],
   "source": [
    "class Solution(object):\n",
    "    def reverseString(self, s):\n",
    "        i = 0\n",
    "        j = len(s) - 1\n",
    "        while i <= j:\n",
    "            s[i], s[j] = s[j], s[i]\n",
    "            i += 1\n",
    "            j -= 1"
   ]
  },
  {
   "cell_type": "code",
   "execution_count": null,
   "id": "e133d787-b678-4d49-85f6-2fbf904254fb",
   "metadata": {},
   "outputs": [],
   "source": []
  }
 ],
 "metadata": {
  "kernelspec": {
   "display_name": "Python 3 (ipykernel)",
   "language": "python",
   "name": "python3"
  },
  "language_info": {
   "codemirror_mode": {
    "name": "ipython",
    "version": 3
   },
   "file_extension": ".py",
   "mimetype": "text/x-python",
   "name": "python",
   "nbconvert_exporter": "python",
   "pygments_lexer": "ipython3",
   "version": "3.11.1"
  }
 },
 "nbformat": 4,
 "nbformat_minor": 5
}

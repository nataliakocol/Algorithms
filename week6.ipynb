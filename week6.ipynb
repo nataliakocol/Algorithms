{
 "cells": [
  {
   "cell_type": "code",
   "execution_count": 1,
   "metadata": {},
   "outputs": [],
   "source": [
    "#Balanced Search Tree\n",
    "class BSTNode():\n",
    "    def __init__(self, key, value):\n",
    "        self.key = key\n",
    "        self.value = value\n",
    "        self.left = None\n",
    "        self.right = None\n",
    "        \n",
    "    def get(self, key):\n",
    "        if self.key == key:\n",
    "            return self.value\n",
    "        elif key < self.key and self.left is not None:\n",
    "            return self.left.get(key) \n",
    "        elif key > self.key and self.right is not None: \n",
    "            return self.right.get(key)\n",
    "        else: \n",
    "            return None\n",
    "        \n",
    "    def put(self, key, value):\n",
    "        if key == self.key:\n",
    "                self.value = value\n",
    "        elif key < self.key:\n",
    "            if self.left is None:\n",
    "                self.left = BSTNode(key, value)\n",
    "            else:\n",
    "                self.left.put(key, value)\n",
    "        elif key > self.key:\n",
    "            if self.right is None:\n",
    "                self.right = BSTNode(key, value)\n",
    "            else:\n",
    "                self.right.put(key, value) \n",
    "\n",
    "    def keys(self):\n",
    "        allKeys = []\n",
    "        self.addKeys(self, allKeys)\n",
    "        return allKeys\n",
    "\n",
    "    def addKeys(self, node, allKeys):\n",
    "        if node is None:\n",
    "            return\n",
    "        allKeys.append(node.key)\n",
    "        self.addKeys(node.left, allKeys)\n",
    "        self.addKeys(node.right, allKeys)\n",
    "\n",
    "class WTT:\n",
    "    def __init__(self, user, website):\n",
    "        site = BSTNode(website, 1)\n",
    "        self.WBST = BSTNode(user, site)\n",
    "\n",
    "    def recordVisit(self, user, website):\n",
    "        site = self.WBST.get(user)\n",
    "        if site is None:\n",
    "            site = BSTNode(website, 1)\n",
    "            self.WBST.put(user, website)\n",
    "        else:\n",
    "            amount = site.get(website)\n",
    "            if amount is None:\n",
    "                site.put(website, 1)\n",
    "            site.put(website, amount + 1)\n",
    "\n",
    "    def hasVisited(self, user, website):\n",
    "        site = self.WBST.get(user)\n",
    "        if site is None:\n",
    "            return False\n",
    "        else:\n",
    "            return site.get(website) is not None\n",
    "\n",
    "    def getFrequency(self, user, website):\n",
    "        site = self.WBST.get(user)\n",
    "        return site.get(website) "
   ]
  },
  {
   "cell_type": "code",
   "execution_count": 11,
   "metadata": {},
   "outputs": [
    {
     "name": "stdout",
     "output_type": "stream",
     "text": [
      "['user 2', 'url 2\\n']\n",
      "['user 3', 'url 1\\n']\n",
      "['user 4', 'url 2\\n']\n",
      "['user 5', 'url 3\\n']\n",
      "['user 1', 'url 3\\n']\n"
     ]
    },
    {
     "ename": "TypeError",
     "evalue": "unsupported operand type(s) for +: 'NoneType' and 'int'",
     "output_type": "error",
     "traceback": [
      "\u001b[0;31m---------------------------------------------------------------------------\u001b[0m",
      "\u001b[0;31mTypeError\u001b[0m                                 Traceback (most recent call last)",
      "Cell \u001b[0;32mIn[11], line 10\u001b[0m\n\u001b[1;32m      8\u001b[0m     trackedVisit \u001b[38;5;241m=\u001b[39m line\u001b[38;5;241m.\u001b[39msplit(\u001b[38;5;124m\"\u001b[39m\u001b[38;5;124m,\u001b[39m\u001b[38;5;124m\"\u001b[39m)\n\u001b[1;32m      9\u001b[0m     \u001b[38;5;28mprint\u001b[39m(trackedVisit)\n\u001b[0;32m---> 10\u001b[0m     \u001b[43mwt\u001b[49m\u001b[38;5;241;43m.\u001b[39;49m\u001b[43mrecordVisit\u001b[49m\u001b[43m(\u001b[49m\u001b[43mtrackedVisit\u001b[49m\u001b[43m[\u001b[49m\u001b[38;5;241;43m0\u001b[39;49m\u001b[43m]\u001b[49m\u001b[43m,\u001b[49m\u001b[43m \u001b[49m\u001b[43mtrackedVisit\u001b[49m\u001b[43m[\u001b[49m\u001b[38;5;241;43m1\u001b[39;49m\u001b[43m]\u001b[49m\u001b[43m)\u001b[49m         \n\u001b[1;32m     11\u001b[0m     line \u001b[38;5;241m=\u001b[39m f\u001b[38;5;241m.\u001b[39mreadline()\u001b[38;5;241m.\u001b[39mrstrip(\u001b[38;5;124m\"\u001b[39m\u001b[38;5;124m,\u001b[39m\u001b[38;5;124m\"\u001b[39m)\n\u001b[1;32m     12\u001b[0m \u001b[38;5;28mprint\u001b[39m(\u001b[38;5;124m\"\u001b[39m\u001b[38;5;124mNumber of visists of user 1 to url 1 (should be 2)\u001b[39m\u001b[38;5;124m\"\u001b[39m, wt\u001b[38;5;241m.\u001b[39mgetVisitFrequency(\u001b[38;5;124m\"\u001b[39m\u001b[38;5;124muser 1\u001b[39m\u001b[38;5;124m\"\u001b[39m, \u001b[38;5;124m\"\u001b[39m\u001b[38;5;124murl 1\u001b[39m\u001b[38;5;124m\"\u001b[39m))\n",
      "Cell \u001b[0;32mIn[10], line 47\u001b[0m, in \u001b[0;36mWTT.recordVisit\u001b[0;34m(self, user, website)\u001b[0m\n\u001b[1;32m     45\u001b[0m \u001b[38;5;28;01mif\u001b[39;00m amount \u001b[38;5;129;01mis\u001b[39;00m \u001b[38;5;28;01mNone\u001b[39;00m:\n\u001b[1;32m     46\u001b[0m     site\u001b[38;5;241m.\u001b[39mput(website, \u001b[38;5;241m1\u001b[39m)\n\u001b[0;32m---> 47\u001b[0m site\u001b[38;5;241m.\u001b[39mput(website, \u001b[43mamount\u001b[49m\u001b[43m \u001b[49m\u001b[38;5;241;43m+\u001b[39;49m\u001b[43m \u001b[49m\u001b[38;5;241;43m1\u001b[39;49m)\n",
      "\u001b[0;31mTypeError\u001b[0m: unsupported operand type(s) for +: 'NoneType' and 'int'"
     ]
    }
   ],
   "source": [
    "with open('3.txt','r') as f:\n",
    "    line = f.readline().rstrip(\",\")\n",
    "    trackedVisit = line.split(\",\")\n",
    "    wt = WTT(trackedVisit[0], trackedVisit[1])\n",
    "    \n",
    "    line = f.readline().rstrip(\",\")\n",
    "    while line != '':\n",
    "        trackedVisit = line.split(\",\")\n",
    "        print(trackedVisit)\n",
    "        wt.recordVisit(trackedVisit[0], trackedVisit[1])         \n",
    "        line = f.readline().rstrip(\",\")\n",
    "    print(\"Number of visists of user 1 to url 1 (should be 2)\", wt.getVisitFrequency(\"user 1\", \"url 1\"))\n",
    "    print(\"Number of visists of user 1 to url 2 (should be 5)\", wt.getVisitFrequency(\"user 1\", \"url 2\"))\n",
    "    print(\"Number of visists of user 1 to url 3 (should be 3)\", wt.getVisitFrequency(\"user 1\", \"url 3\"))"
   ]
  },
  {
   "cell_type": "code",
   "execution_count": 30,
   "metadata": {},
   "outputs": [
    {
     "name": "stdout",
     "output_type": "stream",
     "text": [
      "True\n",
      "B\n"
     ]
    }
   ],
   "source": [
    "A = WTT(\"A\", \"google\")\n",
    "print(A.hasVisited(\"A\", \"google\"))\n",
    "A.getFrequency(\"A\", \"google\")\n",
    "A.recordVisit(\"B\", \"google\")\n",
    "A.recordVisit(\"A\", \"spotify\")\n",
    "A.recordVisit(\"A\", \"google\")\n",
    "A.getFrequency(\"A\", \"google\")\n",
    "print(A.WBST.right.key)"
   ]
  },
  {
   "cell_type": "code",
   "execution_count": 8,
   "metadata": {},
   "outputs": [],
   "source": [
    "class IMBD:\n",
    "    def __init__(self):\n",
    "        with open('3-imdbtest.txt','r') as f:\n",
    "            line = f.readline().split(\"/\")\n",
    "            movie = line[0]\n",
    "            actors = []\n",
    "\n",
    "            for i in range(1, len(line)):\n",
    "                actors.append(line[i])\n",
    "            actors.sort()\n",
    "            self.DB = BSTNode(movie, actors)\n",
    "            self.n = 1\n",
    "\n",
    "            line = f.readline()\n",
    "            while line != '':\n",
    "                l = line.split(\"/\")\n",
    "                movie = l[0]\n",
    "                actors = []\n",
    "                for i in range(1, len(l)):\n",
    "                    actors.append(l[i])\n",
    "                actors.sort()\n",
    "                self.DB.put(movie, actors)\n",
    "                self.n += 1\n",
    "                line = f.readline()\n",
    "\n",
    "    def performers(self, movie):\n",
    "        return self.DB.get(movie)\n",
    "\n",
    "    def movies(self, actor):\n",
    "        allMovies = self.DB.keys()\n",
    "        movies = []\n",
    "        for i in range(0, self.n):\n",
    "            actors = self.DB.get(allMovies[i])\n",
    "            if self.binSearch(actors, actor):\n",
    "                movies.append(allMovies[i])\n",
    "        return movies\n",
    "\n",
    "    def noMovies(self, actor):\n",
    "        return len(self.movies(actor))\n",
    "\n",
    "    def hasPerformed(self, actor, movie):\n",
    "        actors = self.DB.get(movie)\n",
    "        return self.binSearch(actors, actor)\n",
    "            \n",
    "    def binSearch(self, a, x):\n",
    "        lo = 0\n",
    "        hi = len(a) - 1\n",
    "        mid = lo + (hi - lo)//2\n",
    "        while lo <= hi:\n",
    "            mid = lo + (hi - lo)//2\n",
    "            if a[mid] == x:\n",
    "                return True\n",
    "            elif a[mid] < x:\n",
    "                lo = mid + 1\n",
    "            else:\n",
    "                hi = mid - 1\n",
    "        return False"
   ]
  },
  {
   "cell_type": "code",
   "execution_count": 18,
   "metadata": {},
   "outputs": [
    {
     "name": "stdout",
     "output_type": "stream",
     "text": [
      "None\n",
      "None\n"
     ]
    }
   ],
   "source": [
    "imbd = IMBD()\n",
    "imbd.DB.keys()\n",
    "print(imbd.DB.get(\"10 Things I Hate About You (1999)\"))\n",
    "print(imbd.performers('10 (1979)'))"
   ]
  },
  {
   "cell_type": "code",
   "execution_count": null,
   "metadata": {},
   "outputs": [],
   "source": []
  }
 ],
 "metadata": {
  "kernelspec": {
   "display_name": "Python 3 (ipykernel)",
   "language": "python",
   "name": "python3"
  },
  "language_info": {
   "codemirror_mode": {
    "name": "ipython",
    "version": 3
   },
   "file_extension": ".py",
   "mimetype": "text/x-python",
   "name": "python",
   "nbconvert_exporter": "python",
   "pygments_lexer": "ipython3",
   "version": "3.11.1"
  }
 },
 "nbformat": 4,
 "nbformat_minor": 4
}

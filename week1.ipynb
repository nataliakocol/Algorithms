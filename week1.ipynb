{
 "cells": [
  {
   "cell_type": "markdown",
   "id": "2e1ac024-cd08-427e-908f-813ae023cfb2",
   "metadata": {},
   "source": [
    "## Union - find ##"
   ]
  },
  {
   "cell_type": "code",
   "execution_count": null,
   "id": "27ea918b",
   "metadata": {},
   "outputs": [],
   "source": [
    "#eager: quick find\n",
    "#for i in range(N):\n",
    "#    id.append(i)\n",
    "#init: O(N)   \n",
    "id = []\n",
    "N = 9\n",
    "id = [i for i in range(N)]\n",
    "\n",
    "#O(1)\n",
    "def find(u, v):\n",
    "    return id[u] == id[v]\n",
    "\n",
    "#O(N)\n",
    "def union(u, v):\n",
    "    uid = id[u]\n",
    "    vid = id[v]\n",
    "    for i in range(N):\n",
    "        if id[i] == uid:\n",
    "            id[i] = vid"
   ]
  },
  {
   "cell_type": "code",
   "execution_count": null,
   "id": "c27ce35e",
   "metadata": {},
   "outputs": [],
   "source": [
    "#lazy: quick union (???)\n",
    "#init: O(N)\n",
    "id = []\n",
    "N = 9\n",
    "for i in range (N):\n",
    "    id.append(i)\n",
    "    \n",
    "#O(N)\n",
    "def root(i):\n",
    "    while id[i] != i:\n",
    "        i = id[i]\n",
    "    return i\n",
    "   \n",
    "#O(N)\n",
    "def find(u, v):\n",
    "    return root(u) == root(v)\n",
    "       \n",
    "#O(N)   \n",
    "def union(u, v):\n",
    "    root_u = root(u)\n",
    "    root_v = root(v)\n",
    "    id[root_u] = root_v"
   ]
  },
  {
   "cell_type": "code",
   "execution_count": null,
   "id": "eb1a849f",
   "metadata": {},
   "outputs": [],
   "source": [
    "#weighted quick-union\n",
    "#init: O(N)\n",
    "id = []\n",
    "size = []\n",
    "N = 9\n",
    "for i in range(N):\n",
    "    id.append(i)\n",
    "    size.append(1)\n",
    "\n",
    "#O(log N)\n",
    "def root(i):\n",
    "    while id[i] != i:\n",
    "        i = id[i]\n",
    "    return i\n",
    "\n",
    "#O(log N)\n",
    "def find(u, v):\n",
    "    return root(u) == root(v)\n",
    "\n",
    "#O(log N)\n",
    "def union(u, v):\n",
    "    root_u = root(u)\n",
    "    root_v = root(v)\n",
    "    if root_u == root_v:\n",
    "        return\n",
    "    elif size[root_u] > size[root_v]:\n",
    "        id[root_v] = root_u\n",
    "        size[root_u] += size[root_v]\n",
    "    else:\n",
    "        id[root_u] = root_v\n",
    "        size[root_v] += size[root_u]"
   ]
  },
  {
   "cell_type": "markdown",
   "id": "c2489383-8222-4e77-a7b1-5090168aa3f8",
   "metadata": {},
   "source": [
    "## Analysis ##"
   ]
  },
  {
   "cell_type": "code",
   "execution_count": null,
   "id": "ecabe883-6828-4429-b65a-bb6bb091350c",
   "metadata": {},
   "outputs": [],
   "source": [
    "#binary search:\n",
    "def bins(x, N):\n",
    "    a = [i for i in range(N)]\n",
    "    low = 0\n",
    "    high = len(a) - 1\n",
    "    while low <= high:\n",
    "        mid = low + int((high - low)/2)\n",
    "        if a[mid] < x: \n",
    "            low = mid + 1\n",
    "        elif a[mid] > x:\n",
    "            high = mid - 1\n",
    "        else:\n",
    "            return mid\n",
    "    return -1"
   ]
  },
  {
   "cell_type": "code",
   "execution_count": null,
   "id": "049f46e9-1acc-4ca3-8cf8-63ef2a3c519d",
   "metadata": {},
   "outputs": [],
   "source": [
    "x = int(input())\n",
    "print(bins(x, 9))"
   ]
  },
  {
   "cell_type": "code",
   "execution_count": null,
   "id": "28df4db2-7764-4ae3-b958-554f1152b47e",
   "metadata": {},
   "outputs": [],
   "source": [
    "#social network connectivity: ex 2\n",
    "N = int(input(\"Give a number of people:\"))\n",
    "R = int(input(\"Give a number of requests:\"))\n",
    "id = [i for i in range(N)]\n",
    "size = [1 for i in range(N)]\n",
    "main_root = 0\n",
    "\n",
    "def root(i):\n",
    "    while id[i] != i:\n",
    "        i = id[i]\n",
    "    return i\n",
    "\n",
    "#O(log N)\n",
    "def find(u, v):\n",
    "    return root(u) == root(v)\n",
    "\n",
    "def modified_union(u, v):\n",
    "    global main_root #important!!!\n",
    "    root_u = root(u)\n",
    "    root_v = root(v)\n",
    "    if root_u == root_v:\n",
    "        return\n",
    "    elif size[root_u] > size[root_v]:\n",
    "        id[root_v] = root_u\n",
    "        size[root_u] += size[root_v]\n",
    "        if size[root_u] > size[main_root]:\n",
    "            main_root = root_u\n",
    "    else:\n",
    "        id[root_u] = root_v\n",
    "        size[root_v] += size[root_u]\n",
    "        if size[root_v] > size[main_root]:\n",
    "            main_root = root_v\n",
    "    \n",
    "for i in range(R):\n",
    "    u, v = map(int, input(\"Describe a friendship request:\").split())\n",
    "    modified_union(u, v)\n",
    "    if size[main_root] == N:\n",
    "        print(\"Everyone is connected\")\n",
    "\n"
   ]
  },
  {
   "cell_type": "code",
   "execution_count": null,
   "id": "2d69dcc9-c533-4078-a269-dd1f59b7d5be",
   "metadata": {},
   "outputs": [],
   "source": [
    "file = open(\"test.txt\", \"r\")\n",
    "N = int(file.readline())#only necessary for string\n",
    "R = int(file.readline())\n",
    "id = [i for i in range(N)]\n",
    "size = [1 for i in range(N)]\n",
    "main_root = 0\n",
    "\n",
    "#for line in file:\n",
    "#values = line.split()\n",
    "\n",
    "for i in range(R):\n",
    "    u, v = map(int, file.readline().strip('\\n').split(\",\"))\n",
    "    print(u, v)\n",
    "    modified_union(u, v)\n",
    "    if size[main_root] == N:\n",
    "        print(\"Everyone is connected after \" + str(i+1) + \" requests\")\n",
    "        break\n",
    "        \n",
    "    #numbers = [int(e) for e in file.readline().split()]"
   ]
  },
  {
   "cell_type": "code",
   "execution_count": 33,
   "id": "024e9dea-176e-47c8-b82f-4f0a5e56e854",
   "metadata": {},
   "outputs": [
    {
     "name": "stdin",
     "output_type": "stream",
     "text": [
      "Input the number of requests:  1\n",
      "Input the array index:  1\n",
      "Input the target number:  9\n"
     ]
    },
    {
     "name": "stdout",
     "output_type": "stream",
     "text": [
      "3\n"
     ]
    }
   ],
   "source": [
    "#lab1\n",
    "#bin to find largest <= coin value; \n",
    "#oops this didnt work but ill leave it\n",
    "def bins(x, a):\n",
    "    low = 0\n",
    "    high = len(a) - 1\n",
    "    res = -1\n",
    "    while low <= high:\n",
    "        mid = low + int((high - low)/2)\n",
    "        if a[mid] > x: \n",
    "            high = mid - 1\n",
    "        else:\n",
    "            res = mid\n",
    "            low = mid + 1\n",
    "            \n",
    "    return res \n",
    "\n",
    "#ex1\n",
    "a = [1, 2, 5, 10, 20, 50]\n",
    "b = [1, 4, 6]\n",
    "arrs = [a, b]\n",
    "R = int(input(\"Input the number of requests: \"))\n",
    "for i in range(R):\n",
    "    coins = arrs[int(input(\"Input the array index: \"))]\n",
    "    target = int(input(\"Input the target number: \"))\n",
    "    dp = [target + 1 for i in range(target + 1)]\n",
    "    dp[0] = 0\n",
    "    for i in range(1, target + 1):\n",
    "        for c in coins:\n",
    "            if i - c >= 0:\n",
    "                dp[i] = min(dp[i], 1 + dp[i-c])\n",
    "    print(dp[target])"
   ]
  },
  {
   "cell_type": "code",
   "execution_count": 53,
   "id": "0b9d3ef8-5d03-4b43-9f83-f3120c14e229",
   "metadata": {},
   "outputs": [
    {
     "data": {
      "text/plain": [
       "21"
      ]
     },
     "execution_count": 53,
     "metadata": {},
     "output_type": "execute_result"
    }
   ],
   "source": [
    "#ex2 fibonacci\n",
    "\n",
    "#recursive O(2^n)\n",
    "def fib_r(n):\n",
    "    if n == 0:\n",
    "        return 0\n",
    "    elif n == 1:\n",
    "        return 1\n",
    "    else:\n",
    "        return fib_r(n-1) + fib_r(n-2)\n",
    "\n",
    "#iterative O(n)\n",
    "def fib_i(n):\n",
    "    if n == 0:\n",
    "        return 0\n",
    "    elif n == 1:\n",
    "        return 1\n",
    "    prev = 0\n",
    "    cur = 1\n",
    "    for i in range(2, n+1):\n",
    "        cur, prev = prev + cur, cur\n",
    "    return cur\n",
    "\n",
    "#DP sol\n",
    "dp = [0 for i in range(100)]\n",
    "dp[1] = 1\n",
    "for i in range(2, 100):\n",
    "    dp[i] = dp[i-1] + dp[i-2]\n",
    "def fib_dp(n):\n",
    "    return dp[n]\n",
    "\n",
    "fib_dp(8)"
   ]
  },
  {
   "cell_type": "code",
   "execution_count": 64,
   "id": "cd81b761-ca9e-4290-8294-c21d0c83dfae",
   "metadata": {},
   "outputs": [
    {
     "name": "stdout",
     "output_type": "stream",
     "text": [
      "The sentence is balanced\n",
      "The sentence is not balanced\n"
     ]
    }
   ],
   "source": [
    "#ex3\n",
    "#sentence = input(\"Input the parenthesis sentence: \")\n",
    "\n",
    "def check(sentence):\n",
    "    s = []\n",
    "    for c in sentence:\n",
    "        if c == \"(\":\n",
    "            s.append(c)\n",
    "        elif c == \")\":\n",
    "            if len(s) == 0:\n",
    "                print(\"The sentence is not balanced\")\n",
    "                return\n",
    "            else:\n",
    "                s.pop()\n",
    "            \n",
    "    if len(s) != 0:\n",
    "        print(\"The sentence is not balanced\")\n",
    "    else:\n",
    "        print(\"The sentence is balanced\")\n",
    "        \n",
    "\n",
    "s1=\"((x*2)+(x-2)) – a[3] / a[10]\"\n",
    "s2=\"(((x*2)+(x-2)) – a[3] / a[10]\"\n",
    "\n",
    "\n",
    "check(s1)\n",
    "check(s2)"
   ]
  },
  {
   "cell_type": "code",
   "execution_count": null,
   "id": "8bfee1d1-08de-4906-8363-c13aa8680450",
   "metadata": {},
   "outputs": [],
   "source": []
  }
 ],
 "metadata": {
  "kernelspec": {
   "display_name": "Python 3 (ipykernel)",
   "language": "python",
   "name": "python3"
  },
  "language_info": {
   "codemirror_mode": {
    "name": "ipython",
    "version": 3
   },
   "file_extension": ".py",
   "mimetype": "text/x-python",
   "name": "python",
   "nbconvert_exporter": "python",
   "pygments_lexer": "ipython3",
   "version": "3.11.1"
  }
 },
 "nbformat": 4,
 "nbformat_minor": 5
}

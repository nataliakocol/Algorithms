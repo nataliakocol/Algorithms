{
 "cells": [
  {
   "cell_type": "code",
   "execution_count": 1,
   "id": "17c845b8-31d8-45a9-b88a-7cad34c156e3",
   "metadata": {},
   "outputs": [],
   "source": [
    "#Boyer-Moore Algorithm\n",
    "R = 26\n",
    "def rightmostIndex(pattern, R):\n",
    "    index = [-1 for _ in range(R)]\n",
    "        #c = chr(ord('a') + i)\n",
    "    for i in range(len(pattern)):\n",
    "        index[ord(pattern[i]) - ord('a')] = i\n",
    "      \n",
    "    return index"
   ]
  },
  {
   "cell_type": "code",
   "execution_count": 4,
   "id": "92376565-974b-42f7-ae05-e4a8109f4e5a",
   "metadata": {},
   "outputs": [],
   "source": [
    "pattern = \"vsdavdvxxx\"\n",
    "index = rightmostIndex(pattern, R)"
   ]
  },
  {
   "cell_type": "code",
   "execution_count": 8,
   "id": "51797e84-e192-40d5-94ae-816b4c9fa866",
   "metadata": {},
   "outputs": [],
   "source": [
    "def substringSearch(text, pattern):\n",
    "    N = len(text)\n",
    "    M = len(pattern)\n",
    "    i = 0\n",
    "    while i <= N - M: #we scan the text left to right\n",
    "        skip = 0\n",
    "        j = M - 1\n",
    "        while j >= 0:\n",
    "            if pattern[j] != text[i+j]:\n",
    "                skip = max(1, j - index[ord(text[i+j]) - ord('a')]) #M if not found\n",
    "                break\n",
    "            else:\n",
    "                j = j - 1\n",
    "        i = i + skip\n",
    "        if skip == 0:\n",
    "            return i\n",
    "    return N"
   ]
  },
  {
   "cell_type": "code",
   "execution_count": 12,
   "id": "27f0c05d-c2ef-4fc0-8d45-6daa416c4992",
   "metadata": {},
   "outputs": [
    {
     "name": "stdout",
     "output_type": "stream",
     "text": [
      "21\n"
     ]
    },
    {
     "data": {
      "text/plain": [
       "14"
      ]
     },
     "execution_count": 12,
     "metadata": {},
     "output_type": "execute_result"
    }
   ],
   "source": [
    "text = \"gdfsjbvsdavdvxxxdfndh\"\n",
    "print(len(text))\n",
    "substringSearch(\"gdfsjbdfnigudh\", pattern)\n"
   ]
  },
  {
   "cell_type": "code",
   "execution_count": 27,
   "id": "633ef82e-4e0a-4df9-b596-afe7b61703c5",
   "metadata": {},
   "outputs": [],
   "source": [
    "#Data compression\n",
    "class RunLength:\n",
    "    def __init__(self, data):\n",
    "        self.data = data\n",
    "        self.coded = \"\"\n",
    "        self.decoded = \"\"\n",
    "        \n",
    "    def compress(self):\n",
    "        data = self.data\n",
    "        output = \"\"\n",
    "        count = 1\n",
    "        for i in range(1, len(data)):\n",
    "            if data[i] == data[i-1]:\n",
    "                count += 1\n",
    "            else:\n",
    "                output += data[i-1] + str(count)\n",
    "                count = 1\n",
    "        output += data[-1] + str(count)\n",
    "        self.coded = output\n",
    "        return output\n",
    "    \n",
    "    def decompress(self):\n",
    "        data = self.coded\n",
    "        output = \"\"\n",
    "        for i in range(0, len(data), 2):\n",
    "            j = int(data[i+1])\n",
    "            while j > 0:\n",
    "                output += data[i]\n",
    "                j -= 1\n",
    "        self.decoded = output\n",
    "        return output                "
   ]
  },
  {
   "cell_type": "code",
   "execution_count": 26,
   "id": "2fe36c30-7348-4c5c-a4bc-572039a8f989",
   "metadata": {},
   "outputs": [
    {
     "data": {
      "text/plain": [
       "'aabdsfbsdfff'"
      ]
     },
     "execution_count": 26,
     "metadata": {},
     "output_type": "execute_result"
    }
   ],
   "source": [
    "r = RunLength(\"aabdsfbsdfff\")\n",
    "r.compress()\n",
    "r.decompress()"
   ]
  },
  {
   "cell_type": "code",
   "execution_count": 86,
   "id": "17764d8f-0a95-41fc-b6f5-f5bc0ac30960",
   "metadata": {},
   "outputs": [],
   "source": [
    "from queue import PriorityQueue\n",
    "class Huffman:\n",
    "    def __init__(self, data):\n",
    "        self.data = data\n",
    "        self.trie = self.buildTrie()\n",
    "        self.codes = {}\n",
    "        self.calculateCodes()\n",
    "        \n",
    "    class Node:\n",
    "        def __init__(self, c, freq, left, right):\n",
    "            self.c = c\n",
    "            self.freq = freq\n",
    "            self.left = left\n",
    "            self.right = right\n",
    "            \n",
    "        def isLeaf(self):\n",
    "            return self.left == None and self.right == None\n",
    "        \n",
    "        def __lt__(self, other):\n",
    "            return self.freq < other.freq\n",
    "\n",
    "    def preOrder(self, node, codes, curr):\n",
    "        if node is None:\n",
    "            return\n",
    "        if node.isLeaf():\n",
    "            codes[node.c] = curr\n",
    "            return\n",
    "        self.preOrder(node.left, codes, curr + '0')\n",
    "        self.preOrder(node.right, codes, curr + '1')\n",
    "\n",
    "        \n",
    "    def buildTrie(self):\n",
    "        freq = [0 for _ in range(R)]\n",
    "        for i in range(0, len(self.data)):\n",
    "            c = ord(self.data[i]) - ord('a')\n",
    "            freq[c] += 1\n",
    "        pq = PriorityQueue()\n",
    "        for i in range(R):\n",
    "            if freq[i] != 0:\n",
    "                c = chr(i + ord('a'))\n",
    "                pq.put(self.Node(c, freq[i], None, None))          \n",
    "        while pq.qsize() > 1:\n",
    "            x = pq.get()\n",
    "            y = pq.get()\n",
    "            parent = self.Node('', x.freq + y.freq, x, y)\n",
    "            pq.put(parent)\n",
    "        return pq.get()\n",
    "    \n",
    "    def calculateCodes(self):\n",
    "        self.preOrder(self.trie, self.codes, \"\")"
   ]
  },
  {
   "cell_type": "code",
   "execution_count": 87,
   "id": "3c078779-4bf9-4910-bf83-e71e9a512dc5",
   "metadata": {},
   "outputs": [
    {
     "data": {
      "text/plain": [
       "{'s': '00', 'b': '01', 'a': '100', 'd': '101', 'f': '11'}"
      ]
     },
     "execution_count": 87,
     "metadata": {},
     "output_type": "execute_result"
    }
   ],
   "source": [
    "h = Huffman(\"aabdsfbsdfff\")\n",
    "h.codes"
   ]
  },
  {
   "cell_type": "code",
   "execution_count": null,
   "id": "f9d9fd1d-1bf3-487d-b446-5ce9aa78998a",
   "metadata": {},
   "outputs": [],
   "source": []
  }
 ],
 "metadata": {
  "kernelspec": {
   "display_name": "Python 3 (ipykernel)",
   "language": "python",
   "name": "python3"
  },
  "language_info": {
   "codemirror_mode": {
    "name": "ipython",
    "version": 3
   },
   "file_extension": ".py",
   "mimetype": "text/x-python",
   "name": "python",
   "nbconvert_exporter": "python",
   "pygments_lexer": "ipython3",
   "version": "3.11.1"
  }
 },
 "nbformat": 4,
 "nbformat_minor": 5
}

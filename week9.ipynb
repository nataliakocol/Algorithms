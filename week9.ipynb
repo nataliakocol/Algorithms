{
 "cells": [
  {
   "cell_type": "code",
   "execution_count": 4,
   "id": "e45ee4ab-18da-4267-8aef-0ada0fb5d4ff",
   "metadata": {},
   "outputs": [
    {
     "name": "stdout",
     "output_type": "stream",
     "text": [
      "appl\n"
     ]
    }
   ],
   "source": [
    "#strings: tries\n",
    "#longest common prefix\n",
    "R = 26\n",
    "class TrieNode:\n",
    "    def __init__(self):\n",
    "        self.children = [None for _ in range(R)]\n",
    "        self.isLeaf = False\n",
    "        \n",
    "def insert(key, root):\n",
    "    x = root\n",
    "    for i in range(len(key)): \n",
    "        c = ord(key[i]) - ord('a') \n",
    "        if x.children[c] == None: \n",
    "            x.children[c] = TrieNode()\n",
    "        x = x.children[c]\n",
    "    x.isLeaf = True\n",
    "        \n",
    "def buildTrie(strings, root):\n",
    "    for i in range(len(strings)): \n",
    "        insert(strings[i], root)\n",
    "        \n",
    "def countChildren(node):\n",
    "    count = 0\n",
    "    charindex = -1\n",
    "    for i in range(R): \n",
    "        if node.children[i] != None:\n",
    "            count = count + 1\n",
    "            charindex = i \n",
    "    return count, charindex\n",
    "        \n",
    "#longest common prefix:\n",
    "def walkTrie(root): \n",
    "    x = root \n",
    "    lcp = \"\"\n",
    "    count, index = countChildren(x)\n",
    "    while (count == 1 and x.isLeaf == False):\n",
    "        x = x.children[index]\n",
    "        lcp = lcp + chr(97 + index)\n",
    "        count, index = countChildren(x)\n",
    "    return lcp \n",
    "\n",
    "def lcpTrie(strings, root): \n",
    "    buildTrie(strings, root) \n",
    "    return walkTrie(root) \n",
    "\n",
    "testset = [\"apple\", \"applointment\", \"applendix\", \"appleal\",  \"applarel\"]\n",
    "root = TrieNode()\n",
    "trie = lcpTrie(testset, root)\n",
    "print(trie)"
   ]
  },
  {
   "cell_type": "code",
   "execution_count": 5,
   "id": "ec6714da-63b5-419a-a8a4-1155509f6e1f",
   "metadata": {},
   "outputs": [],
   "source": [
    "#kmp - all occurences of pattern in string\n",
    "def KMPPatternSearch(pattern, txt): \n",
    "        M = len(pattern) \n",
    "        N = len(txt) \n",
    "        indices = []\n",
    "    \n",
    "        #longest prefix suffix array\n",
    "        lps = [0]*M \n",
    "        j = 0\n",
    "        computeLPS(pattern, M, lps) \n",
    "    \n",
    "        i = 0\n",
    "        while i < N: \n",
    "            if pattern[j] == txt[i]:\n",
    "                i = i+1\n",
    "                j = j+1\n",
    "            if j == M: \n",
    "                indices.append(i-j)\n",
    "                j = lps[j-1]  \n",
    "            elif i < N and pattern[j] != txt[i]: \n",
    "                if j != 0: \n",
    "                    j = lps[j-1] \n",
    "                else:\n",
    "                    i = i+1\n",
    "        return indices\n",
    "                    \n",
    "                    \n",
    "def computeLPS(pattern, M, lps): \n",
    "    lenp = 0    \n",
    "    lps[0]\n",
    "    i = 1\n",
    "    while i < M: \n",
    "        if pattern[i]== pattern[lenp]: \n",
    "            lenp = lenp + 1\n",
    "            lps[i] = lenp\n",
    "            i = i+1            \n",
    "        else: \n",
    "            if lenp != 0: \n",
    "                lenp = lps[lenp-1] \n",
    "            else: \n",
    "                lps[i] = 0\n",
    "                i = i+1"
   ]
  },
  {
   "cell_type": "code",
   "execution_count": 7,
   "id": "ad997a6b-b9bc-4972-ae9c-424b73cf5cfa",
   "metadata": {},
   "outputs": [
    {
     "name": "stdout",
     "output_type": "stream",
     "text": [
      "vdhs\n"
     ]
    }
   ],
   "source": [
    "#longest common substring\n",
    "def longestCommonSubstring(s1, s2):\n",
    "    ind1 = 0\n",
    "    maxi = 0\n",
    "    dp = [[0 for _ in range(len(s2))] for _ in range(len(s1))]\n",
    "    for i in range(len(s1)):\n",
    "        for j in range(len(s2)):\n",
    "            if s1[i] == s2[j]:\n",
    "                dp[i][j] = dp[i-1][j-1] + 1\n",
    "                if dp[i][j] > maxi:\n",
    "                    maxi = dp[i][j]\n",
    "                    ind = i\n",
    "\n",
    "    ans = s1[(ind + 1 - maxi):ind + 1]\n",
    "    \n",
    "    return ans\n",
    "\n",
    "s1 = \"abvdhsjva\"\n",
    "s2 = \"vdhs\"\n",
    "print(longestCommonSubstring(s1, s2))"
   ]
  },
  {
   "cell_type": "code",
   "execution_count": null,
   "id": "b28d9cba-2c6c-481f-a122-c8e3a51844b3",
   "metadata": {},
   "outputs": [],
   "source": []
  }
 ],
 "metadata": {
  "kernelspec": {
   "display_name": "Python 3 (ipykernel)",
   "language": "python",
   "name": "python3"
  },
  "language_info": {
   "codemirror_mode": {
    "name": "ipython",
    "version": 3
   },
   "file_extension": ".py",
   "mimetype": "text/x-python",
   "name": "python",
   "nbconvert_exporter": "python",
   "pygments_lexer": "ipython3",
   "version": "3.11.1"
  }
 },
 "nbformat": 4,
 "nbformat_minor": 5
}
